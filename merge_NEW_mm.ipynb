{
 "cells": [
  {
   "cell_type": "code",
   "execution_count": 1,
   "metadata": {},
   "outputs": [],
   "source": [
    "# pip install langdetect\n",
    "# pip install sentencepiece\n",
    "# pip install boto3\n",
    "# pip install awscli\n",
    "# pip install sacremoses"
   ]
  },
  {
   "cell_type": "code",
   "execution_count": 2,
   "metadata": {},
   "outputs": [
    {
     "name": "stdout",
     "output_type": "stream",
     "text": [
      "WARNING:tensorflow:From c:\\Users\\mered\\anaconda3\\Lib\\site-packages\\keras\\src\\losses.py:2976: The name tf.losses.sparse_softmax_cross_entropy is deprecated. Please use tf.compat.v1.losses.sparse_softmax_cross_entropy instead.\n",
      "\n"
     ]
    }
   ],
   "source": [
    "import gradio as gr\n",
    "from transformers import pipeline, AutoTokenizer, TFAutoModelForSeq2SeqLM\n",
    "from dotenv import load_dotenv\n",
    "import os\n",
    "import subprocess\n",
    "import torch\n",
    "import tempfile\n",
    "from langdetect import detect\n",
    "from transformers import MarianMTModel, MarianTokenizer\n",
    "import re\n",
    "import boto3"
   ]
  },
  {
   "cell_type": "code",
   "execution_count": 3,
   "metadata": {},
   "outputs": [],
   "source": [
    "# import functions from functions file\n",
    "\n",
    "from functions_mm import handle_query, transcribe_audio_original, submit_question, polly_text_to_speech, translate, translate_and_speech, clear_inputs, voice_map, language_map, default_language, languages\n",
    "\n"
   ]
  },
  {
   "cell_type": "code",
   "execution_count": 4,
   "metadata": {},
   "outputs": [],
   "source": [
    "# gr.themes.builder()"
   ]
  },
  {
   "cell_type": "code",
   "execution_count": 5,
   "metadata": {},
   "outputs": [],
   "source": [
    "import gradio as gr\n",
    "\n",
    "theme = gr.themes.Soft(\n",
    "    secondary_hue=\"teal\",\n",
    "    neutral_hue=\"slate\",\n",
    "    font=[gr.themes.GoogleFont('Source Sans Pro'), 'ui-sans-serif', 'system-ui', 'sans-serif'],\n",
    ").set(\n",
    "    background_fill_primary='white',\n",
    "    \n",
    "    #change background color here\n",
    "    body_background_fill='*primary_100',\n",
    "    \n",
    "    shadow_drop='rgba(0,0,0,0.05) 0px 1px 2px 0px',\n",
    "    shadow_drop_lg='0 1px 3px 0 rgb(0 0 0 / 0.1), 0 1px 2px -1px rgb(0 0 0 / 0.1)',\n",
    "    shadow_spread='3px',\n",
    "    block_background_fill='*background_fill_primary',\n",
    "    block_border_width='1px',\n",
    "    block_border_width_dark='1px',\n",
    "    block_label_background_fill='*background_fill_primary',\n",
    "    block_label_background_fill_dark='*background_fill_secondary',\n",
    "    block_label_text_color='*neutral_500',\n",
    "    block_label_text_color_dark='*neutral_200',\n",
    "    block_label_margin='0',\n",
    "    block_label_padding='*spacing_sm *spacing_lg',\n",
    "    block_label_radius='calc(*radius_lg - 1px) 0 calc(*radius_lg - 1px) 0',\n",
    "    block_label_text_size='*text_sm',\n",
    "    block_label_text_weight='400',\n",
    "    block_title_background_fill='none',\n",
    "    block_title_background_fill_dark='none',\n",
    "    block_title_text_color='*neutral_500',\n",
    "    block_title_text_color_dark='*neutral_200',\n",
    "    block_title_padding='0',\n",
    "    block_title_radius='none',\n",
    "    block_title_text_weight='400',\n",
    "    \n",
    "    #panel border width change here\n",
    "    panel_border_width='1px',\n",
    "    \n",
    "    #try panel border here\n",
    "    panel_border_color='*neutral_900',\n",
    "    \n",
    "    panel_border_width_dark='0',\n",
    "    checkbox_background_color_selected='*secondary_600',\n",
    "    checkbox_background_color_selected_dark='*secondary_600',\n",
    "    checkbox_border_color='*neutral_300',\n",
    "    checkbox_border_color_dark='*neutral_700',\n",
    "    checkbox_border_color_focus='*secondary_500',\n",
    "    checkbox_border_color_focus_dark='*secondary_500',\n",
    "    checkbox_border_color_selected='*secondary_600',\n",
    "    checkbox_border_color_selected_dark='*secondary_600',\n",
    "    checkbox_border_width='*input_border_width',\n",
    "    checkbox_shadow='*input_shadow',\n",
    "    checkbox_label_background_fill_selected='*checkbox_label_background_fill',\n",
    "    checkbox_label_background_fill_selected_dark='*checkbox_label_background_fill',\n",
    "    checkbox_label_shadow='none',\n",
    "    checkbox_label_text_color_selected='*checkbox_label_text_color',\n",
    "    input_background_fill='*neutral_100',\n",
    "    input_border_color='*border_color_primary',\n",
    "    input_shadow='none',\n",
    "    input_shadow_dark='none',\n",
    "    input_shadow_focus='*input_shadow',\n",
    "    input_shadow_focus_dark='*input_shadow',\n",
    "    slider_color='#2563eb',\n",
    "    slider_color_dark='#2563eb',\n",
    "    button_shadow='none',\n",
    "    button_shadow_active='none',\n",
    "    button_shadow_hover='none',\n",
    "    \n",
    "    #change button color here\n",
    "    button_primary_background_fill='linear-gradient(45deg, *primary_500, *secondary_200)',\n",
    "    # *primary_300',\n",
    "    button_primary_background_fill_hover='*button_primary_background_fill',\n",
    "    button_primary_background_fill_hover_dark='*button_primary_background_fill',\n",
    "    \n",
    "    #change button text color here\n",
    "    button_primary_text_color='*neutral_900',\n",
    "    \n",
    "    #change button color here\n",
    "    button_secondary_background_fill='*secondary_500',\n",
    "    button_secondary_background_fill_hover='*button_secondary_background_fill',\n",
    "    button_secondary_background_fill_hover_dark='*button_secondary_background_fill',\n",
    "    button_secondary_text_color='*neutral_700',\n",
    "    button_cancel_background_fill_hover='*button_cancel_background_fill',\n",
    "    button_cancel_background_fill_hover_dark='*button_cancel_background_fill'\n",
    ")\n",
    "\n",
    "\n"
   ]
  },
  {
   "cell_type": "code",
   "execution_count": 6,
   "metadata": {},
   "outputs": [
    {
     "name": "stdout",
     "output_type": "stream",
     "text": [
      "Running on local URL:  http://127.0.0.1:7860\n",
      "\n",
      "To create a public link, set `share=True` in `launch()`.\n"
     ]
    },
    {
     "data": {
      "text/html": [
       "<div><iframe src=\"http://127.0.0.1:7860/\" width=\"100%\" height=\"500\" allow=\"autoplay; camera; microphone; clipboard-read; clipboard-write;\" frameborder=\"0\" allowfullscreen></iframe></div>"
      ],
      "text/plain": [
       "<IPython.core.display.HTML object>"
      ]
     },
     "metadata": {},
     "output_type": "display_data"
    },
    {
     "data": {
      "text/plain": []
     },
     "execution_count": 6,
     "metadata": {},
     "output_type": "execute_result"
    },
    {
     "name": "stderr",
     "output_type": "stream",
     "text": [
      "Special tokens have been added in the vocabulary, make sure the associated word embeddings are fine-tuned or trained.\n",
      "Traceback (most recent call last):\n",
      "  File \"c:\\Users\\mered\\anaconda3\\Lib\\site-packages\\gradio\\queueing.py\", line 527, in process_events\n",
      "    response = await route_utils.call_process_api(\n",
      "               ^^^^^^^^^^^^^^^^^^^^^^^^^^^^^^^^^^^\n",
      "  File \"c:\\Users\\mered\\anaconda3\\Lib\\site-packages\\gradio\\route_utils.py\", line 261, in call_process_api\n",
      "    output = await app.get_blocks().process_api(\n",
      "             ^^^^^^^^^^^^^^^^^^^^^^^^^^^^^^^^^^^\n",
      "  File \"c:\\Users\\mered\\anaconda3\\Lib\\site-packages\\gradio\\blocks.py\", line 1786, in process_api\n",
      "    result = await self.call_function(\n",
      "             ^^^^^^^^^^^^^^^^^^^^^^^^^\n",
      "  File \"c:\\Users\\mered\\anaconda3\\Lib\\site-packages\\gradio\\blocks.py\", line 1338, in call_function\n",
      "    prediction = await anyio.to_thread.run_sync(\n",
      "                 ^^^^^^^^^^^^^^^^^^^^^^^^^^^^^^^\n",
      "  File \"c:\\Users\\mered\\anaconda3\\Lib\\site-packages\\anyio\\to_thread.py\", line 56, in run_sync\n",
      "    return await get_async_backend().run_sync_in_worker_thread(\n",
      "           ^^^^^^^^^^^^^^^^^^^^^^^^^^^^^^^^^^^^^^^^^^^^^^^^^^^^\n",
      "  File \"c:\\Users\\mered\\anaconda3\\Lib\\site-packages\\anyio\\_backends\\_asyncio.py\", line 2134, in run_sync_in_worker_thread\n",
      "    return await future\n",
      "           ^^^^^^^^^^^^\n",
      "  File \"c:\\Users\\mered\\anaconda3\\Lib\\site-packages\\anyio\\_backends\\_asyncio.py\", line 851, in run\n",
      "    result = context.run(func, *args)\n",
      "             ^^^^^^^^^^^^^^^^^^^^^^^^\n",
      "  File \"c:\\Users\\mered\\anaconda3\\Lib\\site-packages\\gradio\\utils.py\", line 759, in wrapper\n",
      "    response = f(*args, **kwargs)\n",
      "               ^^^^^^^^^^^^^^^^^^\n",
      "  File \"c:\\Users\\mered\\OneDrive\\Documents\\AI_Bootcamp\\1_DataClass\\gradio_project\\functions_mm.py\", line 268, in submit_question\n",
      "    response_speech = polly_text_to_speech(response_text, detected_lang_code)\n",
      "                      ^^^^^^^^^^^^^^^^^^^^^^^^^^^^^^^^^^^^^^^^^^^^^^^^^^^^^^^\n",
      "  File \"c:\\Users\\mered\\OneDrive\\Documents\\AI_Bootcamp\\1_DataClass\\gradio_project\\functions_mm.py\", line 218, in polly_text_to_speech\n",
      "    voice_id = voice_map[lang_code]\n",
      "               ~~~~~~~~~^^^^^^^^^^^\n",
      "KeyError: 'ru'\n"
     ]
    },
    {
     "data": {
      "application/vnd.jupyter.widget-view+json": {
       "model_id": "7a99d6418d054c81bcf23ecde11ce38b",
       "version_major": 2,
       "version_minor": 0
      },
      "text/plain": [
       "tokenizer_config.json:   0%|          | 0.00/337 [00:00<?, ?B/s]"
      ]
     },
     "metadata": {},
     "output_type": "display_data"
    },
    {
     "name": "stderr",
     "output_type": "stream",
     "text": [
      "c:\\Users\\mered\\anaconda3\\Lib\\site-packages\\huggingface_hub\\file_download.py:149: UserWarning: `huggingface_hub` cache-system uses symlinks by default to efficiently store duplicated files but your machine does not support them in C:\\Users\\mered\\.cache\\huggingface\\hub\\models--Helsinki-NLP--opus-mt-tc-big-ar-en. Caching files will still work but in a degraded version that might require more space on your disk. This warning can be disabled by setting the `HF_HUB_DISABLE_SYMLINKS_WARNING` environment variable. For more details, see https://huggingface.co/docs/huggingface_hub/how-to-cache#limitations.\n",
      "To support symlinks on Windows, you either need to activate Developer Mode or to run Python as an administrator. In order to see activate developer mode, see this article: https://docs.microsoft.com/en-us/windows/apps/get-started/enable-your-device-for-development\n",
      "  warnings.warn(message)\n"
     ]
    },
    {
     "data": {
      "application/vnd.jupyter.widget-view+json": {
       "model_id": "b31e4228ab474d128481bd02ffe3a2be",
       "version_major": 2,
       "version_minor": 0
      },
      "text/plain": [
       "source.spm:   0%|          | 0.00/915k [00:00<?, ?B/s]"
      ]
     },
     "metadata": {},
     "output_type": "display_data"
    },
    {
     "data": {
      "application/vnd.jupyter.widget-view+json": {
       "model_id": "7456aa73e2f54b3e8ce92513a50a4a2b",
       "version_major": 2,
       "version_minor": 0
      },
      "text/plain": [
       "target.spm:   0%|          | 0.00/804k [00:00<?, ?B/s]"
      ]
     },
     "metadata": {},
     "output_type": "display_data"
    },
    {
     "data": {
      "application/vnd.jupyter.widget-view+json": {
       "model_id": "167a628cc64b40d18f03bf80a04f7fa2",
       "version_major": 2,
       "version_minor": 0
      },
      "text/plain": [
       "vocab.json:   0%|          | 0.00/2.20M [00:00<?, ?B/s]"
      ]
     },
     "metadata": {},
     "output_type": "display_data"
    },
    {
     "data": {
      "application/vnd.jupyter.widget-view+json": {
       "model_id": "ea7fcca820ea4245b709f1ef439648ca",
       "version_major": 2,
       "version_minor": 0
      },
      "text/plain": [
       "special_tokens_map.json:   0%|          | 0.00/65.0 [00:00<?, ?B/s]"
      ]
     },
     "metadata": {},
     "output_type": "display_data"
    },
    {
     "data": {
      "application/vnd.jupyter.widget-view+json": {
       "model_id": "c3666e728abf4fe88027c843019be2d3",
       "version_major": 2,
       "version_minor": 0
      },
      "text/plain": [
       "config.json:   0%|          | 0.00/1.14k [00:00<?, ?B/s]"
      ]
     },
     "metadata": {},
     "output_type": "display_data"
    },
    {
     "data": {
      "application/vnd.jupyter.widget-view+json": {
       "model_id": "874caa547564420d8344be3bcde62c31",
       "version_major": 2,
       "version_minor": 0
      },
      "text/plain": [
       "pytorch_model.bin:   0%|          | 0.00/603M [00:00<?, ?B/s]"
      ]
     },
     "metadata": {},
     "output_type": "display_data"
    },
    {
     "data": {
      "application/vnd.jupyter.widget-view+json": {
       "model_id": "9d1a3f15979c4e39b9b10aaed649720d",
       "version_major": 2,
       "version_minor": 0
      },
      "text/plain": [
       "generation_config.json:   0%|          | 0.00/301 [00:00<?, ?B/s]"
      ]
     },
     "metadata": {},
     "output_type": "display_data"
    },
    {
     "name": "stderr",
     "output_type": "stream",
     "text": [
      "Traceback (most recent call last):\n",
      "  File \"c:\\Users\\mered\\anaconda3\\Lib\\site-packages\\gradio\\queueing.py\", line 527, in process_events\n",
      "    response = await route_utils.call_process_api(\n",
      "               ^^^^^^^^^^^^^^^^^^^^^^^^^^^^^^^^^^^\n",
      "  File \"c:\\Users\\mered\\anaconda3\\Lib\\site-packages\\gradio\\route_utils.py\", line 261, in call_process_api\n",
      "    output = await app.get_blocks().process_api(\n",
      "             ^^^^^^^^^^^^^^^^^^^^^^^^^^^^^^^^^^^\n",
      "  File \"c:\\Users\\mered\\anaconda3\\Lib\\site-packages\\gradio\\blocks.py\", line 1786, in process_api\n",
      "    result = await self.call_function(\n",
      "             ^^^^^^^^^^^^^^^^^^^^^^^^^\n",
      "  File \"c:\\Users\\mered\\anaconda3\\Lib\\site-packages\\gradio\\blocks.py\", line 1338, in call_function\n",
      "    prediction = await anyio.to_thread.run_sync(\n",
      "                 ^^^^^^^^^^^^^^^^^^^^^^^^^^^^^^^\n",
      "  File \"c:\\Users\\mered\\anaconda3\\Lib\\site-packages\\anyio\\to_thread.py\", line 56, in run_sync\n",
      "    return await get_async_backend().run_sync_in_worker_thread(\n",
      "           ^^^^^^^^^^^^^^^^^^^^^^^^^^^^^^^^^^^^^^^^^^^^^^^^^^^^\n",
      "  File \"c:\\Users\\mered\\anaconda3\\Lib\\site-packages\\anyio\\_backends\\_asyncio.py\", line 2134, in run_sync_in_worker_thread\n",
      "    return await future\n",
      "           ^^^^^^^^^^^^\n",
      "  File \"c:\\Users\\mered\\anaconda3\\Lib\\site-packages\\anyio\\_backends\\_asyncio.py\", line 851, in run\n",
      "    result = context.run(func, *args)\n",
      "             ^^^^^^^^^^^^^^^^^^^^^^^^\n",
      "  File \"c:\\Users\\mered\\anaconda3\\Lib\\site-packages\\gradio\\utils.py\", line 759, in wrapper\n",
      "    response = f(*args, **kwargs)\n",
      "               ^^^^^^^^^^^^^^^^^^\n",
      "  File \"c:\\Users\\mered\\OneDrive\\Documents\\AI_Bootcamp\\1_DataClass\\gradio_project\\functions_mm.py\", line 335, in translate_and_speech\n",
      "    translated_speech = polly_text_to_speech(translated_response, target_lang_code)\n",
      "                        ^^^^^^^^^^^^^^^^^^^^^^^^^^^^^^^^^^^^^^^^^^^^^^^^^^^^^^^^^^^\n",
      "  File \"c:\\Users\\mered\\OneDrive\\Documents\\AI_Bootcamp\\1_DataClass\\gradio_project\\functions_mm.py\", line 221, in polly_text_to_speech\n",
      "    response = polly_client.synthesize_speech(\n",
      "               ^^^^^^^^^^^^^^^^^^^^^^^^^^^^^^^\n",
      "  File \"c:\\Users\\mered\\anaconda3\\Lib\\site-packages\\botocore\\client.py\", line 565, in _api_call\n",
      "    return self._make_api_call(operation_name, kwargs)\n",
      "           ^^^^^^^^^^^^^^^^^^^^^^^^^^^^^^^^^^^^^^^^^^^\n",
      "  File \"c:\\Users\\mered\\anaconda3\\Lib\\site-packages\\botocore\\client.py\", line 1021, in _make_api_call\n",
      "    raise error_class(parsed_response, operation_name)\n",
      "botocore.errorfactory.TextLengthExceededException: An error occurred (TextLengthExceededException) when calling the SynthesizeSpeech operation: Maximum text length has been exceeded\n"
     ]
    },
    {
     "data": {
      "application/vnd.jupyter.widget-view+json": {
       "model_id": "7074c9140c6c485b880e8ecaed2a9618",
       "version_major": 2,
       "version_minor": 0
      },
      "text/plain": [
       "tokenizer_config.json:   0%|          | 0.00/337 [00:00<?, ?B/s]"
      ]
     },
     "metadata": {},
     "output_type": "display_data"
    },
    {
     "name": "stderr",
     "output_type": "stream",
     "text": [
      "c:\\Users\\mered\\anaconda3\\Lib\\site-packages\\huggingface_hub\\file_download.py:149: UserWarning: `huggingface_hub` cache-system uses symlinks by default to efficiently store duplicated files but your machine does not support them in C:\\Users\\mered\\.cache\\huggingface\\hub\\models--Helsinki-NLP--opus-mt-tc-big-en-ar. Caching files will still work but in a degraded version that might require more space on your disk. This warning can be disabled by setting the `HF_HUB_DISABLE_SYMLINKS_WARNING` environment variable. For more details, see https://huggingface.co/docs/huggingface_hub/how-to-cache#limitations.\n",
      "To support symlinks on Windows, you either need to activate Developer Mode or to run Python as an administrator. In order to see activate developer mode, see this article: https://docs.microsoft.com/en-us/windows/apps/get-started/enable-your-device-for-development\n",
      "  warnings.warn(message)\n"
     ]
    },
    {
     "data": {
      "application/vnd.jupyter.widget-view+json": {
       "model_id": "e14dd68137d54c1ea6a0b8341a94b104",
       "version_major": 2,
       "version_minor": 0
      },
      "text/plain": [
       "source.spm:   0%|          | 0.00/806k [00:00<?, ?B/s]"
      ]
     },
     "metadata": {},
     "output_type": "display_data"
    },
    {
     "data": {
      "application/vnd.jupyter.widget-view+json": {
       "model_id": "72906bae92f54b5484de3cd0d0a2acd2",
       "version_major": 2,
       "version_minor": 0
      },
      "text/plain": [
       "target.spm:   0%|          | 0.00/916k [00:00<?, ?B/s]"
      ]
     },
     "metadata": {},
     "output_type": "display_data"
    },
    {
     "data": {
      "application/vnd.jupyter.widget-view+json": {
       "model_id": "ae31e3b6d6e44875ae04cb7799bb8248",
       "version_major": 2,
       "version_minor": 0
      },
      "text/plain": [
       "vocab.json:   0%|          | 0.00/2.21M [00:00<?, ?B/s]"
      ]
     },
     "metadata": {},
     "output_type": "display_data"
    },
    {
     "data": {
      "application/vnd.jupyter.widget-view+json": {
       "model_id": "76aa5441348444b3a90ce25b9ea3f62a",
       "version_major": 2,
       "version_minor": 0
      },
      "text/plain": [
       "special_tokens_map.json:   0%|          | 0.00/65.0 [00:00<?, ?B/s]"
      ]
     },
     "metadata": {},
     "output_type": "display_data"
    },
    {
     "data": {
      "application/vnd.jupyter.widget-view+json": {
       "model_id": "7d7e2629311349f8859fb40a311d3c64",
       "version_major": 2,
       "version_minor": 0
      },
      "text/plain": [
       "config.json:   0%|          | 0.00/1.08k [00:00<?, ?B/s]"
      ]
     },
     "metadata": {},
     "output_type": "display_data"
    },
    {
     "data": {
      "application/vnd.jupyter.widget-view+json": {
       "model_id": "b2925adcb71f45d1981b932db6881fd7",
       "version_major": 2,
       "version_minor": 0
      },
      "text/plain": [
       "model.safetensors:   0%|          | 0.00/478M [00:00<?, ?B/s]"
      ]
     },
     "metadata": {},
     "output_type": "display_data"
    },
    {
     "data": {
      "application/vnd.jupyter.widget-view+json": {
       "model_id": "2d59fed32d1d407bbeb5354734ba9161",
       "version_major": 2,
       "version_minor": 0
      },
      "text/plain": [
       "generation_config.json:   0%|          | 0.00/301 [00:00<?, ?B/s]"
      ]
     },
     "metadata": {},
     "output_type": "display_data"
    },
    {
     "name": "stderr",
     "output_type": "stream",
     "text": [
      "Traceback (most recent call last):\n",
      "  File \"c:\\Users\\mered\\anaconda3\\Lib\\site-packages\\gradio\\queueing.py\", line 527, in process_events\n",
      "    response = await route_utils.call_process_api(\n",
      "               ^^^^^^^^^^^^^^^^^^^^^^^^^^^^^^^^^^^\n",
      "  File \"c:\\Users\\mered\\anaconda3\\Lib\\site-packages\\gradio\\route_utils.py\", line 261, in call_process_api\n",
      "    output = await app.get_blocks().process_api(\n",
      "             ^^^^^^^^^^^^^^^^^^^^^^^^^^^^^^^^^^^\n",
      "  File \"c:\\Users\\mered\\anaconda3\\Lib\\site-packages\\gradio\\blocks.py\", line 1786, in process_api\n",
      "    result = await self.call_function(\n",
      "             ^^^^^^^^^^^^^^^^^^^^^^^^^\n",
      "  File \"c:\\Users\\mered\\anaconda3\\Lib\\site-packages\\gradio\\blocks.py\", line 1338, in call_function\n",
      "    prediction = await anyio.to_thread.run_sync(\n",
      "                 ^^^^^^^^^^^^^^^^^^^^^^^^^^^^^^^\n",
      "  File \"c:\\Users\\mered\\anaconda3\\Lib\\site-packages\\anyio\\to_thread.py\", line 56, in run_sync\n",
      "    return await get_async_backend().run_sync_in_worker_thread(\n",
      "           ^^^^^^^^^^^^^^^^^^^^^^^^^^^^^^^^^^^^^^^^^^^^^^^^^^^^\n",
      "  File \"c:\\Users\\mered\\anaconda3\\Lib\\site-packages\\anyio\\_backends\\_asyncio.py\", line 2134, in run_sync_in_worker_thread\n",
      "    return await future\n",
      "           ^^^^^^^^^^^^\n",
      "  File \"c:\\Users\\mered\\anaconda3\\Lib\\site-packages\\anyio\\_backends\\_asyncio.py\", line 851, in run\n",
      "    result = context.run(func, *args)\n",
      "             ^^^^^^^^^^^^^^^^^^^^^^^^\n",
      "  File \"c:\\Users\\mered\\anaconda3\\Lib\\site-packages\\gradio\\utils.py\", line 759, in wrapper\n",
      "    response = f(*args, **kwargs)\n",
      "               ^^^^^^^^^^^^^^^^^^\n",
      "  File \"c:\\Users\\mered\\OneDrive\\Documents\\AI_Bootcamp\\1_DataClass\\gradio_project\\functions_mm.py\", line 335, in translate_and_speech\n",
      "    translated_speech = polly_text_to_speech(translated_response, target_lang_code)\n",
      "                        ^^^^^^^^^^^^^^^^^^^^^^^^^^^^^^^^^^^^^^^^^^^^^^^^^^^^^^^^^^^\n",
      "  File \"c:\\Users\\mered\\OneDrive\\Documents\\AI_Bootcamp\\1_DataClass\\gradio_project\\functions_mm.py\", line 221, in polly_text_to_speech\n",
      "    response = polly_client.synthesize_speech(\n",
      "               ^^^^^^^^^^^^^^^^^^^^^^^^^^^^^^^\n",
      "  File \"c:\\Users\\mered\\anaconda3\\Lib\\site-packages\\botocore\\client.py\", line 565, in _api_call\n",
      "    return self._make_api_call(operation_name, kwargs)\n",
      "           ^^^^^^^^^^^^^^^^^^^^^^^^^^^^^^^^^^^^^^^^^^^\n",
      "  File \"c:\\Users\\mered\\anaconda3\\Lib\\site-packages\\botocore\\client.py\", line 1021, in _make_api_call\n",
      "    raise error_class(parsed_response, operation_name)\n",
      "botocore.errorfactory.TextLengthExceededException: An error occurred (TextLengthExceededException) when calling the SynthesizeSpeech operation: Maximum text length has been exceeded\n"
     ]
    },
    {
     "data": {
      "application/vnd.jupyter.widget-view+json": {
       "model_id": "010327ee52a24737b526e275c34cca96",
       "version_major": 2,
       "version_minor": 0
      },
      "text/plain": [
       "tokenizer_config.json:   0%|          | 0.00/337 [00:00<?, ?B/s]"
      ]
     },
     "metadata": {},
     "output_type": "display_data"
    },
    {
     "name": "stderr",
     "output_type": "stream",
     "text": [
      "c:\\Users\\mered\\anaconda3\\Lib\\site-packages\\huggingface_hub\\file_download.py:149: UserWarning: `huggingface_hub` cache-system uses symlinks by default to efficiently store duplicated files but your machine does not support them in C:\\Users\\mered\\.cache\\huggingface\\hub\\models--Helsinki-NLP--opus-mt-tc-big-en-fr. Caching files will still work but in a degraded version that might require more space on your disk. This warning can be disabled by setting the `HF_HUB_DISABLE_SYMLINKS_WARNING` environment variable. For more details, see https://huggingface.co/docs/huggingface_hub/how-to-cache#limitations.\n",
      "To support symlinks on Windows, you either need to activate Developer Mode or to run Python as an administrator. In order to see activate developer mode, see this article: https://docs.microsoft.com/en-us/windows/apps/get-started/enable-your-device-for-development\n",
      "  warnings.warn(message)\n"
     ]
    },
    {
     "data": {
      "application/vnd.jupyter.widget-view+json": {
       "model_id": "ea84b04edee34e3e85a75714acd294bf",
       "version_major": 2,
       "version_minor": 0
      },
      "text/plain": [
       "source.spm:   0%|          | 0.00/802k [00:00<?, ?B/s]"
      ]
     },
     "metadata": {},
     "output_type": "display_data"
    },
    {
     "data": {
      "application/vnd.jupyter.widget-view+json": {
       "model_id": "ad8e1784889f4f36a5d973ca128f96d4",
       "version_major": 2,
       "version_minor": 0
      },
      "text/plain": [
       "target.spm:   0%|          | 0.00/820k [00:00<?, ?B/s]"
      ]
     },
     "metadata": {},
     "output_type": "display_data"
    },
    {
     "data": {
      "application/vnd.jupyter.widget-view+json": {
       "model_id": "c417b7c18bfd4e8a81a32986857a8467",
       "version_major": 2,
       "version_minor": 0
      },
      "text/plain": [
       "vocab.json:   0%|          | 0.00/1.33M [00:00<?, ?B/s]"
      ]
     },
     "metadata": {},
     "output_type": "display_data"
    },
    {
     "data": {
      "application/vnd.jupyter.widget-view+json": {
       "model_id": "e7924a31d59e4f53b0510d66dc6eb4c8",
       "version_major": 2,
       "version_minor": 0
      },
      "text/plain": [
       "special_tokens_map.json:   0%|          | 0.00/65.0 [00:00<?, ?B/s]"
      ]
     },
     "metadata": {},
     "output_type": "display_data"
    },
    {
     "data": {
      "application/vnd.jupyter.widget-view+json": {
       "model_id": "69bf57e52902499cb37d41526aa69673",
       "version_major": 2,
       "version_minor": 0
      },
      "text/plain": [
       "config.json:   0%|          | 0.00/1.08k [00:00<?, ?B/s]"
      ]
     },
     "metadata": {},
     "output_type": "display_data"
    },
    {
     "data": {
      "application/vnd.jupyter.widget-view+json": {
       "model_id": "f926ac2739e34dcd8854c4724425e535",
       "version_major": 2,
       "version_minor": 0
      },
      "text/plain": [
       "model.safetensors:   0%|          | 0.00/461M [00:00<?, ?B/s]"
      ]
     },
     "metadata": {},
     "output_type": "display_data"
    },
    {
     "data": {
      "application/vnd.jupyter.widget-view+json": {
       "model_id": "fb97669c94204f1d8e3f9f63a95cc5ca",
       "version_major": 2,
       "version_minor": 0
      },
      "text/plain": [
       "generation_config.json:   0%|          | 0.00/301 [00:00<?, ?B/s]"
      ]
     },
     "metadata": {},
     "output_type": "display_data"
    }
   ],
   "source": [
    "instructions=\"\"\"\n",
    "# Diabetes Chatbot! \n",
    "## Ask a question through audio recording/text. Receive a response. Translate to selected language.\"\"\"\n",
    "\n",
    "\n",
    "with gr.Blocks(theme=theme) as app2:\n",
    "    \n",
    "    with gr.Row():\n",
    "        gr.Markdown(instructions)\n",
    "        \n",
    "    with gr.Row():\n",
    "        with gr.Column(variant=\"panel\", scale=1):\n",
    "            # gr.Markdown(\"## Step 1: Enter question by recording audio\")\n",
    "            input_audio = gr.Audio(\n",
    "                label=\"Click the microphone to record audio\",\n",
    "                type=\"filepath\",\n",
    "                waveform_options=gr.WaveformOptions(\n",
    "                    waveform_color=\"#01C6FF\",\n",
    "                    waveform_progress_color=\"#0066B4\",\n",
    "                    skip_length=2,\n",
    "                    show_controls=False,)\n",
    "            )\n",
    "            # gr.Markdown(\"## Step 2: Transcribe audio into text\")\n",
    "            transcribe_button = gr.Button(\"Transcribe audio\", variant=\"primary\")\n",
    "            # gr.Markdown(\"## Step 3: Transcribed audio appears here. Or, type your question here.\")\n",
    "            query_text = gr.Textbox(label=\"Transcribed audio appears here. Or type a question here.\")\n",
    "            # gr.Markdown(\"## Submit your question\")\n",
    "            submit_button = gr.Button(\"Submit your question\", variant=\"primary\")\n",
    "            \n",
    "        with gr.Column(variant=\"panel\", scale=2): \n",
    "            response_text = gr.Textbox(label=\"Chatbot response\")\n",
    "            response_speech = gr.Audio(label=\"Chatbot response speech\",\n",
    "                                       waveform_options=gr.WaveformOptions(\n",
    "                                           waveform_color=\"#01C6FF\",\n",
    "                                           waveform_progress_color=\"#0066B4\",\n",
    "                                           skip_length=2,\n",
    "                                           show_controls=False,))\n",
    "            output_no_audio_message = gr.Textbox(label=\"message if audio not available\")\n",
    "            \n",
    "        with gr.Column(variant=\"panel\", scale=2):\n",
    "            language_dropdown = gr.Dropdown(label=\"Click the middle of the dropdown bar to select translation language\",\n",
    "                                            choices=list(language_map.keys()), value=default_language, type='value')\n",
    "            translate_button = gr.Button(\"Translate the response\", variant=\"primary\")\n",
    "            output_translated = gr.Textbox(label=\"Translated text\")\n",
    "            output_translated_speech = gr.Audio(label=\"Translated speech\",\n",
    "                                                waveform_options=gr.WaveformOptions(\n",
    "                                                    waveform_color=\"#01C6FF\",\n",
    "                                                    waveform_progress_color=\"#0066B4\",\n",
    "                                                    skip_length=2,\n",
    "                                                    show_controls=False,))\n",
    "            output_no_audio_available = gr.Textbox(label=\"message if audio not available\")\n",
    "    \n",
    "    with gr.Row():\n",
    "        clear_button = gr.Button(\"Clear All\", variant=\"primary\") \n",
    "                \n",
    "\n",
    "    # Audio transcription\n",
    "    transcribe_button.click(\n",
    "        fn=transcribe_audio_original,\n",
    "        inputs=[input_audio],\n",
    "        outputs=[query_text]\n",
    "    )\n",
    "    \n",
    "    submit_button.click(\n",
    "        fn=submit_question,\n",
    "        inputs=[input_audio, query_text, language_dropdown],\n",
    "        outputs=[response_text, response_speech, output_no_audio_message]\n",
    "    )\n",
    "        \n",
    "    # Translation\n",
    "    translate_button.click(\n",
    "        fn=translate_and_speech,\n",
    "        inputs=[response_text, language_dropdown],\n",
    "        outputs=[output_translated, output_translated_speech, output_no_audio_available]\n",
    "    )\n",
    "        \n",
    "    #Clearing all inputs and outputs\n",
    "    clear_button.click(\n",
    "    fn=clear_inputs,\n",
    "    inputs=[],\n",
    "    outputs=[input_audio, query_text, response_text, response_speech, output_translated, output_translated_speech, output_no_audio_message, output_no_audio_available]\n",
    "    )\n",
    "\n",
    "app2.launch(show_error=True)\n"
   ]
  }
 ],
 "metadata": {
  "kernelspec": {
   "display_name": "base",
   "language": "python",
   "name": "python3"
  },
  "language_info": {
   "codemirror_mode": {
    "name": "ipython",
    "version": 3
   },
   "file_extension": ".py",
   "mimetype": "text/x-python",
   "name": "python",
   "nbconvert_exporter": "python",
   "pygments_lexer": "ipython3",
   "version": "3.11.5"
  }
 },
 "nbformat": 4,
 "nbformat_minor": 2
}
